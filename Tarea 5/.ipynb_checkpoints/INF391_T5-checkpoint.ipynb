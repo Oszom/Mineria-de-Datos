{
 "cells": [
  {
   "cell_type": "markdown",
   "metadata": {
    "colab_type": "text",
    "id": "9BfaEqGF0yzW"
   },
   "source": [
    "# INF391 - Tarea 5\n",
    "\n",
    "Utilizar Mean-shift para segmentar 3 imágenes a elección. Analizar cómo influye la variedad de colores y formas en la segmentación."
   ]
  },
  {
   "cell_type": "code",
   "execution_count": 1,
   "metadata": {
    "colab": {},
    "colab_type": "code",
    "id": "f6jhFN1S2cAy"
   },
   "outputs": [
    {
     "ename": "ModuleNotFoundError",
     "evalue": "No module named 'cv2'",
     "output_type": "error",
     "traceback": [
      "\u001b[1;31m---------------------------------------------------------------------------\u001b[0m",
      "\u001b[1;31mModuleNotFoundError\u001b[0m                       Traceback (most recent call last)",
      "\u001b[1;32m<ipython-input-1-0becfe93121d>\u001b[0m in \u001b[0;36m<module>\u001b[1;34m\u001b[0m\n\u001b[0;32m      1\u001b[0m \u001b[1;32mimport\u001b[0m \u001b[0mnumpy\u001b[0m \u001b[1;32mas\u001b[0m \u001b[0mnp\u001b[0m\u001b[1;33m\u001b[0m\u001b[1;33m\u001b[0m\u001b[0m\n\u001b[1;32m----> 2\u001b[1;33m \u001b[1;32mimport\u001b[0m \u001b[0mcv2\u001b[0m\u001b[1;33m\u001b[0m\u001b[1;33m\u001b[0m\u001b[0m\n\u001b[0m\u001b[0;32m      3\u001b[0m \u001b[1;32mfrom\u001b[0m \u001b[0msklearn\u001b[0m\u001b[1;33m.\u001b[0m\u001b[0mcluster\u001b[0m \u001b[1;32mimport\u001b[0m \u001b[0mMeanShift\u001b[0m\u001b[1;33m,\u001b[0m \u001b[0mestimate_bandwidth\u001b[0m\u001b[1;33m\u001b[0m\u001b[1;33m\u001b[0m\u001b[0m\n",
      "\u001b[1;31mModuleNotFoundError\u001b[0m: No module named 'cv2'"
     ]
    }
   ],
   "source": [
    "import numpy as np    \n",
    "import cv2    \n",
    "from sklearn.cluster import MeanShift, estimate_bandwidth"
   ]
  },
  {
   "cell_type": "code",
   "execution_count": null,
   "metadata": {
    "colab": {},
    "colab_type": "code",
    "id": "p1AxBMJOE_4q"
   },
   "outputs": [],
   "source": [
    "#Loading original image\n",
    "originImg = cv2.imread('car.png')\n",
    "\n",
    "# Shape of original image    \n",
    "originShape = originImg.shape\n",
    "\n",
    "# Converting image into array of dimension [nb of pixels in originImage, 3]\n",
    "# based on r g b intensities    \n",
    "flatImg = np.reshape(originImg, [-1, 3])"
   ]
  },
  {
   "cell_type": "code",
   "execution_count": null,
   "metadata": {
    "colab": {
     "base_uri": "https://localhost:8080/",
     "height": 51
    },
    "colab_type": "code",
    "id": "H_CWZJW-FBqn",
    "outputId": "9f075c50-934f-4f91-c3bf-f0d2da540ae9"
   },
   "outputs": [],
   "source": [
    "# Estimate bandwidth for meanshift algorithm    \n",
    "# b = estimate_bandwidth(flatImg, quantile=0.1, n_samples=100)\n",
    "\n",
    "ms = MeanShift(bandwidth = 30, bin_seeding=True)\n",
    "\n",
    "# Performing meanshift on flatImg    \n",
    "ms.fit(flatImg)"
   ]
  },
  {
   "cell_type": "code",
   "execution_count": null,
   "metadata": {
    "colab": {
     "base_uri": "https://localhost:8080/",
     "height": 34
    },
    "colab_type": "code",
    "id": "QRImcFezFbF6",
    "outputId": "7e8be0d8-8eb6-4c4a-85c9-9a2bcaff26d5"
   },
   "outputs": [],
   "source": [
    "# (r,g,b) vectors corresponding to the different clusters after meanshift    \n",
    "labels = ms.labels_\n",
    "\n",
    "# Remaining colors after meanshift    \n",
    "cluster_centers = ms.cluster_centers_    \n",
    "\n",
    "# Finding and diplaying the number of clusters    \n",
    "labels_unique = np.unique(labels)    \n",
    "n_clusters_ = len(labels_unique)    \n",
    "print(\"Number of estimated clusters : %d\" % n_clusters_)    "
   ]
  },
  {
   "cell_type": "code",
   "execution_count": null,
   "metadata": {
    "colab": {
     "base_uri": "https://localhost:8080/",
     "height": 885
    },
    "colab_type": "code",
    "id": "A-3l5YOMFdDQ",
    "outputId": "7c7b4d9b-0f37-4168-9a8a-9df8d8deba2f"
   },
   "outputs": [],
   "source": [
    "# Displaying segmented image    \n",
    "segmentedImg = cluster_centers[np.reshape(labels, originShape[:2])]\n",
    "\n",
    "# If You Are in Colab\n",
    "from google.colab.patches import cv2_imshow\n",
    "cv2_imshow(originImg) \n",
    "cv2_imshow(segmentedImg)    \n",
    "# Else\n",
    "#cv2.imshow('Original',originImg)  \n",
    "#cv2.imshow('Segmented',segmentedImg)  "
   ]
  }
 ],
 "metadata": {
  "colab": {
   "collapsed_sections": [],
   "name": "INF391_T5.ipynb",
   "provenance": []
  },
  "kernelspec": {
   "display_name": "Python 3",
   "language": "python",
   "name": "python3"
  },
  "language_info": {
   "codemirror_mode": {
    "name": "ipython",
    "version": 3
   },
   "file_extension": ".py",
   "mimetype": "text/x-python",
   "name": "python",
   "nbconvert_exporter": "python",
   "pygments_lexer": "ipython3",
   "version": "3.7.4"
  }
 },
 "nbformat": 4,
 "nbformat_minor": 1
}
