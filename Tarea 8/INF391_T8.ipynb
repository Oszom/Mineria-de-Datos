{
 "cells": [
  {
   "cell_type": "markdown",
   "metadata": {
    "colab_type": "text",
    "id": "1e9BGw_SEwkC"
   },
   "source": [
    "# INF391 - Tarea 8\n",
    "Dado el siguiente conjunto de transacciones:\n",
    "\n",
    "* Muestre todos los **itemset frecuentes** usando el algoritmo *Apriori* considerando un soporte mínimo $\\mathbf{minsup}=0.2$. ¿Cuál es el itemset más frecuente?. ¿Qué razón tiene su alta frecuencia?.\n",
    "* ¿Qué reglas superan el umbral de confianza mínima $\\mathbf{minconf}=0.6$?. Comente los resultados obtenidos.\n",
    "* Graficar el scatter plot *Support* vs *Confidence*. Interpretar el gráfico. Compare la regla con mayor Soporte versus la regla con mayor Confianza. ¿Qué puede concluir al respecto?.\n"
   ]
  },
  {
   "cell_type": "code",
   "execution_count": 2,
   "metadata": {
    "colab": {},
    "colab_type": "code",
    "id": "kKFOn_dJEK9V"
   },
   "outputs": [],
   "source": [
    "import pandas as pd\n",
    "import numpy as np\n",
    "from mlxtend.frequent_patterns import apriori, association_rules\n",
    "import matplotlib.pyplot as plt"
   ]
  },
  {
   "cell_type": "code",
   "execution_count": 3,
   "metadata": {
    "colab": {
     "base_uri": "https://localhost:8080/",
     "height": 221
    },
    "colab_type": "code",
    "id": "ul-mdR-REeiz",
    "outputId": "1ec8fb7c-52af-47c7-f95a-6d061e634998"
   },
   "outputs": [
    {
     "name": "stdout",
     "output_type": "stream",
     "text": [
      "Número de transacciones: 315\n"
     ]
    },
    {
     "data": {
      "text/html": [
       "<div>\n",
       "<style scoped>\n",
       "    .dataframe tbody tr th:only-of-type {\n",
       "        vertical-align: middle;\n",
       "    }\n",
       "\n",
       "    .dataframe tbody tr th {\n",
       "        vertical-align: top;\n",
       "    }\n",
       "\n",
       "    .dataframe thead th {\n",
       "        text-align: right;\n",
       "    }\n",
       "</style>\n",
       "<table border=\"1\" class=\"dataframe\">\n",
       "  <thead>\n",
       "    <tr style=\"text-align: right;\">\n",
       "      <th></th>\n",
       "      <th>0</th>\n",
       "      <th>1</th>\n",
       "      <th>2</th>\n",
       "      <th>3</th>\n",
       "      <th>4</th>\n",
       "      <th>5</th>\n",
       "      <th>6</th>\n",
       "    </tr>\n",
       "  </thead>\n",
       "  <tbody>\n",
       "    <tr>\n",
       "      <th>0</th>\n",
       "      <td>Pan</td>\n",
       "      <td>Vino</td>\n",
       "      <td>Huevos</td>\n",
       "      <td>Carne</td>\n",
       "      <td>Queso</td>\n",
       "      <td>Lápiz</td>\n",
       "      <td>Pañales</td>\n",
       "    </tr>\n",
       "    <tr>\n",
       "      <th>1</th>\n",
       "      <td>Pan</td>\n",
       "      <td>Queso</td>\n",
       "      <td>Carne</td>\n",
       "      <td>Pañales</td>\n",
       "      <td>Vino</td>\n",
       "      <td>Leche</td>\n",
       "      <td>Lápiz</td>\n",
       "    </tr>\n",
       "    <tr>\n",
       "      <th>2</th>\n",
       "      <td>Queso</td>\n",
       "      <td>Carne</td>\n",
       "      <td>Huevos</td>\n",
       "      <td>Leche</td>\n",
       "      <td>Vino</td>\n",
       "      <td>NaN</td>\n",
       "      <td>NaN</td>\n",
       "    </tr>\n",
       "    <tr>\n",
       "      <th>3</th>\n",
       "      <td>Queso</td>\n",
       "      <td>Carne</td>\n",
       "      <td>Huevos</td>\n",
       "      <td>Leche</td>\n",
       "      <td>Vino</td>\n",
       "      <td>NaN</td>\n",
       "      <td>NaN</td>\n",
       "    </tr>\n",
       "    <tr>\n",
       "      <th>4</th>\n",
       "      <td>Carne</td>\n",
       "      <td>Lápiz</td>\n",
       "      <td>Vino</td>\n",
       "      <td>NaN</td>\n",
       "      <td>NaN</td>\n",
       "      <td>NaN</td>\n",
       "      <td>NaN</td>\n",
       "    </tr>\n",
       "  </tbody>\n",
       "</table>\n",
       "</div>"
      ],
      "text/plain": [
       "       0      1       2        3      4      5        6\n",
       "0    Pan   Vino  Huevos    Carne  Queso  Lápiz  Pañales\n",
       "1    Pan  Queso   Carne  Pañales   Vino  Leche    Lápiz\n",
       "2  Queso  Carne  Huevos    Leche   Vino    NaN      NaN\n",
       "3  Queso  Carne  Huevos    Leche   Vino    NaN      NaN\n",
       "4  Carne  Lápiz    Vino      NaN    NaN    NaN      NaN"
      ]
     },
     "execution_count": 3,
     "metadata": {},
     "output_type": "execute_result"
    }
   ],
   "source": [
    "df = pd.read_csv('retail_dataset.csv', sep=',')\n",
    "print (\"Número de transacciones:\", df.shape[0])\n",
    "df.head()"
   ]
  },
  {
   "cell_type": "code",
   "execution_count": 22,
   "metadata": {},
   "outputs": [],
   "source": [
    "df1 = df.iloc[0:,0].str.replace(' ','').str.get_dummies(sep=',')\n",
    "df2 = df.iloc[0:,1].str.replace(' ','').str.get_dummies(sep=',')\n",
    "df3 = df.iloc[0:,2].str.replace(' ','').str.get_dummies(sep=',')\n",
    "df4 = df.iloc[0:,3].str.replace(' ','').str.get_dummies(sep=',')\n",
    "df5 = df.iloc[0:,4].str.replace(' ','').str.get_dummies(sep=',')\n",
    "df6 = df.iloc[0:,5].str.replace(' ','').str.get_dummies(sep=',')\n",
    "df7 = df.iloc[0:,6].str.replace(' ','').str.get_dummies(sep=',')\n",
    "dataframe_binario = df1+df2+df3+df4+df5+df6+df7"
   ]
  },
  {
   "cell_type": "code",
   "execution_count": 0,
   "metadata": {
    "colab": {
     "base_uri": "https://localhost:8080/",
     "height": 34
    },
    "colab_type": "code",
    "id": "FdYi1Cl3E7vy",
    "outputId": "26ac2a87-d378-4c66-c332-eb46d56476c0"
   },
   "outputs": [
    {
     "name": "stdout",
     "output_type": "stream",
     "text": [
      "9 Items: ['Pan' 'Queso' 'Carne' 'Huevos' 'Vino' 'Bagel' 'Lápiz' 'Pañales' 'Leche']\n"
     ]
    }
   ],
   "source": [
    "items = (df['0'].unique())\n",
    "print(str(len(items)) + \" Items:\", items)"
   ]
  },
  {
   "cell_type": "markdown",
   "metadata": {
    "colab_type": "text",
    "id": "El-Zg8l5Nddv"
   },
   "source": [
    "**Generar itemsets frecuentes**\n",
    "\n",
    "La función  ```apriori``` recibe un dataframe binario (compuesto por 0 y 1).\n",
    "\n"
   ]
  },
  {
   "cell_type": "code",
   "execution_count": 36,
   "metadata": {
    "colab": {},
    "colab_type": "code",
    "id": "nckCIh5rLrlU"
   },
   "outputs": [
    {
     "name": "stdout",
     "output_type": "stream",
     "text": [
      "     support                itemsets\n",
      "5   0.504762                   (Pan)\n",
      "3   0.501587                 (Leche)\n",
      "7   0.501587                 (Queso)\n",
      "1   0.476190                 (Carne)\n",
      "2   0.438095                (Huevos)\n",
      "8   0.438095                  (Vino)\n",
      "0   0.425397                 (Bagel)\n",
      "6   0.406349               (Pañales)\n",
      "4   0.361905                 (Lápiz)\n",
      "14  0.323810          (Carne, Queso)\n",
      "20  0.304762          (Queso, Leche)\n",
      "17  0.298413         (Huevos, Queso)\n",
      "10  0.279365            (Bagel, Pan)\n",
      "19  0.279365            (Pan, Leche)\n",
      "30  0.269841           (Queso, Vino)\n",
      "11  0.266667         (Huevos, Carne)\n",
      "15  0.250794           (Carne, Vino)\n",
      "27  0.244444             (Pan, Vino)\n",
      "16  0.244444         (Huevos, Leche)\n",
      "12  0.244444          (Carne, Leche)\n",
      "18  0.241270          (Huevos, Vino)\n",
      "26  0.238095            (Pan, Queso)\n",
      "29  0.234921         (Pañales, Vino)\n",
      "25  0.231746          (Pañales, Pan)\n",
      "9   0.225397          (Bagel, Leche)\n",
      "21  0.219048           (Leche, Vino)\n",
      "31  0.215873  (Huevos, Carne, Queso)\n",
      "13  0.206349            (Carne, Pan)\n",
      "32  0.203175   (Carne, Queso, Leche)\n",
      "22  0.200000            (Lápiz, Pan)\n",
      "23  0.200000          (Lápiz, Queso)\n",
      "24  0.200000           (Lápiz, Vino)\n",
      "28  0.200000        (Pañales, Queso)\n"
     ]
    }
   ],
   "source": [
    "itemset_frecuentes = apriori(dataframe_binario, min_support=0.2, use_colnames=True)\n",
    "print(itemset_frecuentes.sort_values(by = \"support\",ascending = False))"
   ]
  },
  {
   "cell_type": "markdown",
   "metadata": {
    "colab_type": "text",
    "id": "hxrYObGRTM0u"
   },
   "source": [
    "**Reglas interesantes**"
   ]
  },
  {
   "cell_type": "code",
   "execution_count": 38,
   "metadata": {
    "colab": {},
    "colab_type": "code",
    "id": "ARRqK3GrOzIe"
   },
   "outputs": [
    {
     "name": "stdout",
     "output_type": "stream",
     "text": [
      "        antecedents consequents  antecedent support  consequent support  \\\n",
      "0           (Bagel)       (Pan)            0.425397            0.504762   \n",
      "1          (Huevos)     (Carne)            0.438095            0.476190   \n",
      "2           (Carne)     (Queso)            0.476190            0.501587   \n",
      "3           (Queso)     (Carne)            0.501587            0.476190   \n",
      "4          (Huevos)     (Queso)            0.438095            0.501587   \n",
      "5           (Queso)     (Leche)            0.501587            0.501587   \n",
      "6           (Leche)     (Queso)            0.501587            0.501587   \n",
      "7            (Vino)     (Queso)            0.438095            0.501587   \n",
      "8   (Huevos, Carne)     (Queso)            0.266667            0.501587   \n",
      "9   (Huevos, Queso)     (Carne)            0.298413            0.476190   \n",
      "10   (Carne, Queso)    (Huevos)            0.323810            0.438095   \n",
      "11   (Carne, Queso)     (Leche)            0.323810            0.501587   \n",
      "12   (Carne, Leche)     (Queso)            0.244444            0.501587   \n",
      "13   (Leche, Queso)     (Carne)            0.304762            0.476190   \n",
      "\n",
      "     support  confidence      lift  leverage  conviction  \n",
      "0   0.279365    0.656716  1.301042  0.064641    1.442650  \n",
      "1   0.266667    0.608696  1.278261  0.058050    1.338624  \n",
      "2   0.323810    0.680000  1.355696  0.084958    1.557540  \n",
      "3   0.323810    0.645570  1.355696  0.084958    1.477891  \n",
      "4   0.298413    0.681159  1.358008  0.078670    1.563203  \n",
      "5   0.304762    0.607595  1.211344  0.053172    1.270148  \n",
      "6   0.304762    0.607595  1.211344  0.053172    1.270148  \n",
      "7   0.269841    0.615942  1.227986  0.050098    1.297754  \n",
      "8   0.215873    0.809524  1.613924  0.082116    2.616667  \n",
      "9   0.215873    0.723404  1.519149  0.073772    1.893773  \n",
      "10  0.215873    0.666667  1.521739  0.074014    1.685714  \n",
      "11  0.203175    0.627451  1.250931  0.040756    1.337845  \n",
      "12  0.203175    0.831169  1.657077  0.080564    2.952137  \n",
      "13  0.203175    0.666667  1.400000  0.058050    1.571429  \n"
     ]
    }
   ],
   "source": [
    "reglas_interesantes = association_rules(itemset_frecuentes, metric=\"confidence\", min_threshold=0.6)\n",
    "print(reglas_interesantes)"
   ]
  },
  {
   "cell_type": "markdown",
   "metadata": {
    "colab_type": "text",
    "id": "xqV6-_V0XCd_"
   },
   "source": [
    "**Scatter Plot**"
   ]
  },
  {
   "cell_type": "code",
   "execution_count": 39,
   "metadata": {
    "colab": {},
    "colab_type": "code",
    "id": "Nqwmym4ZXCmt"
   },
   "outputs": [
    {
     "data": {
      "image/png": "[encoded data removed]",
      "text/plain": [
       "<Figure size 432x288 with 1 Axes>"
      ]
     },
     "metadata": {
      "needs_background": "light"
     },
     "output_type": "display_data"
    }
   ],
   "source": [
    "plt.scatter(reglas_interesantes['support'], reglas_interesantes['confidence'])\n",
    "plt.xlabel('Soporte')\n",
    "plt.ylabel('Confianza')\n",
    "plt.title('Soporte vs Confianza')\n",
    "plt.show()"
   ]
  }
 ],
 "metadata": {
  "colab": {
   "collapsed_sections": [],
   "name": "INF391_T8.ipynb",
   "provenance": [],
   "toc_visible": true
  },
  "kernelspec": {
   "display_name": "Python 3",
   "language": "python",
   "name": "python3"
  },
  "language_info": {
   "codemirror_mode": {
    "name": "ipython",
    "version": 3
   },
   "file_extension": ".py",
   "mimetype": "text/x-python",
   "name": "python",
   "nbconvert_exporter": "python",
   "pygments_lexer": "ipython3",
   "version": "3.7.4"
  }
 },
 "nbformat": 4,
 "nbformat_minor": 1
}
